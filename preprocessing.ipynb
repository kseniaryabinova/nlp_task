{
 "cells": [
  {
   "cell_type": "code",
   "execution_count": 75,
   "metadata": {},
   "outputs": [],
   "source": [
    "import pandas as pd\n",
    "import nltk\n",
    "import pymorphy2\n",
    "from string import punctuation\n",
    "import re"
   ]
  },
  {
   "cell_type": "code",
   "execution_count": 2,
   "metadata": {},
   "outputs": [],
   "source": [
    "path = '/home/ksenia/progas/python/int_trans/rureviews/women-clothing-accessories.3-class.balanced.csv'"
   ]
  },
  {
   "cell_type": "code",
   "execution_count": 3,
   "metadata": {},
   "outputs": [],
   "source": [
    "df = pd.read_csv(path, sep='\\t', header=0)"
   ]
  },
  {
   "cell_type": "code",
   "execution_count": 4,
   "metadata": {},
   "outputs": [
    {
     "data": {
      "text/html": [
       "<div>\n",
       "<style scoped>\n",
       "    .dataframe tbody tr th:only-of-type {\n",
       "        vertical-align: middle;\n",
       "    }\n",
       "\n",
       "    .dataframe tbody tr th {\n",
       "        vertical-align: top;\n",
       "    }\n",
       "\n",
       "    .dataframe thead th {\n",
       "        text-align: right;\n",
       "    }\n",
       "</style>\n",
       "<table border=\"1\" class=\"dataframe\">\n",
       "  <thead>\n",
       "    <tr style=\"text-align: right;\">\n",
       "      <th></th>\n",
       "      <th>review</th>\n",
       "      <th>sentiment</th>\n",
       "    </tr>\n",
       "  </thead>\n",
       "  <tbody>\n",
       "    <tr>\n",
       "      <th>0</th>\n",
       "      <td>качество плохое пошив ужасный (горловина напер...</td>\n",
       "      <td>negative</td>\n",
       "    </tr>\n",
       "    <tr>\n",
       "      <th>1</th>\n",
       "      <td>Товар отдали другому человеку, я не получила п...</td>\n",
       "      <td>negative</td>\n",
       "    </tr>\n",
       "    <tr>\n",
       "      <th>2</th>\n",
       "      <td>Ужасная синтетика! Тонкая, ничего общего с пре...</td>\n",
       "      <td>negative</td>\n",
       "    </tr>\n",
       "    <tr>\n",
       "      <th>3</th>\n",
       "      <td>товар не пришел, продавец продлил защиту без м...</td>\n",
       "      <td>negative</td>\n",
       "    </tr>\n",
       "    <tr>\n",
       "      <th>4</th>\n",
       "      <td>Кофточка голая синтетика, носить не возможно.</td>\n",
       "      <td>negative</td>\n",
       "    </tr>\n",
       "    <tr>\n",
       "      <th>...</th>\n",
       "      <td>...</td>\n",
       "      <td>...</td>\n",
       "    </tr>\n",
       "    <tr>\n",
       "      <th>89995</th>\n",
       "      <td>сделано достаточно хорошо. на ткани сделан рис...</td>\n",
       "      <td>positive</td>\n",
       "    </tr>\n",
       "    <tr>\n",
       "      <th>89996</th>\n",
       "      <td>Накидка шикарная. Спасибо большое провдо линяе...</td>\n",
       "      <td>positive</td>\n",
       "    </tr>\n",
       "    <tr>\n",
       "      <th>89997</th>\n",
       "      <td>спасибо большое ) продовца рекомендую.. заказа...</td>\n",
       "      <td>positive</td>\n",
       "    </tr>\n",
       "    <tr>\n",
       "      <th>89998</th>\n",
       "      <td>Очень довольна заказом! Меньше месяца в РБ.  К...</td>\n",
       "      <td>positive</td>\n",
       "    </tr>\n",
       "    <tr>\n",
       "      <th>89999</th>\n",
       "      <td>хорошая куртка. постороннего запаха нет. швы р...</td>\n",
       "      <td>positive</td>\n",
       "    </tr>\n",
       "  </tbody>\n",
       "</table>\n",
       "<p>90000 rows × 2 columns</p>\n",
       "</div>"
      ],
      "text/plain": [
       "                                                  review sentiment\n",
       "0      качество плохое пошив ужасный (горловина напер...  negative\n",
       "1      Товар отдали другому человеку, я не получила п...  negative\n",
       "2      Ужасная синтетика! Тонкая, ничего общего с пре...  negative\n",
       "3      товар не пришел, продавец продлил защиту без м...  negative\n",
       "4          Кофточка голая синтетика, носить не возможно.  negative\n",
       "...                                                  ...       ...\n",
       "89995  сделано достаточно хорошо. на ткани сделан рис...  positive\n",
       "89996  Накидка шикарная. Спасибо большое провдо линяе...  positive\n",
       "89997  спасибо большое ) продовца рекомендую.. заказа...  positive\n",
       "89998  Очень довольна заказом! Меньше месяца в РБ.  К...  positive\n",
       "89999  хорошая куртка. постороннего запаха нет. швы р...  positive\n",
       "\n",
       "[90000 rows x 2 columns]"
      ]
     },
     "execution_count": 4,
     "metadata": {},
     "output_type": "execute_result"
    }
   ],
   "source": [
    "df"
   ]
  },
  {
   "cell_type": "code",
   "execution_count": 5,
   "metadata": {},
   "outputs": [
    {
     "data": {
      "text/plain": [
       "\"Заказ я сделала в июле. С тех пор посылка отслеживалась до границы с Россией(есть подозрение что ее там потеряли), а продавец отказывался возвращать оплату или отправить повторно посылку. Общалась с ним не однократно, последний раз обещал продлить защиту, но не сделал этого. Дело не в сумме, просто принцип уже. Если ситуация изменится дополню отзыв./The order I made in July. Since the package was tracked to the border with Russia(there is a suspicion that it's lost), and the seller refused to refund the payment or re-send the parcel. I talked to him once, the last time promised to extend protection, but didn't. It's not the amount, just the principle already. If the situation changes I will add a review.\""
      ]
     },
     "execution_count": 5,
     "metadata": {},
     "output_type": "execute_result"
    }
   ],
   "source": [
    "df.loc[8]['review']"
   ]
  },
  {
   "cell_type": "code",
   "execution_count": 116,
   "metadata": {},
   "outputs": [
    {
     "name": "stderr",
     "output_type": "stream",
     "text": [
      "[nltk_data] Downloading package stopwords to /home/ksenia/nltk_data...\n",
      "[nltk_data]   Package stopwords is already up-to-date!\n"
     ]
    }
   ],
   "source": [
    "nltk.download('stopwords')\n",
    "russian_stopwords = nltk.corpus.stopwords.words(\"russian\")\n",
    "english_stopwords = nltk.corpus.stopwords.words(\"english\")"
   ]
  },
  {
   "cell_type": "code",
   "execution_count": null,
   "metadata": {},
   "outputs": [],
   "source": [
    "mystem = pymystem3.Mystem() "
   ]
  },
  {
   "cell_type": "code",
   "execution_count": 9,
   "metadata": {},
   "outputs": [],
   "source": [
    "def preprocess_text(text):\n",
    "    tokens = mystem.lemmatize(text.lower())\n",
    "    tokens = [token for token in tokens if token not in russian_stopwords\\\n",
    "              and token != \" \" \\\n",
    "              and token.strip() not in punctuation]\n",
    "    \n",
    "    text = \" \".join(tokens)\n",
    "    \n",
    "    return text"
   ]
  },
  {
   "cell_type": "code",
   "execution_count": 10,
   "metadata": {},
   "outputs": [
    {
     "data": {
      "text/plain": [
       "'заказ сделать июль пора посылка отслеживаться граница россия подозрение потерять ),  продавец отказываться возвращать оплата отправлять повторно посылка общаться однократно последний обещать продлять защита сделать это дело сумма просто принцип ситуация изменяться дополнять отзыв the order i made in july since the package was tracked to the border with russia there is a suspicion that it s lost ),  and the seller refused to refund the payment or re send the parcel i talked to him once the last time promised to extend protection but didn t it s not the amount just the principle already if the situation changes i will add a review'"
      ]
     },
     "execution_count": 10,
     "metadata": {},
     "output_type": "execute_result"
    }
   ],
   "source": [
    "preprocess_text(df.loc[8]['review'])"
   ]
  },
  {
   "cell_type": "code",
   "execution_count": 9,
   "metadata": {},
   "outputs": [],
   "source": [
    "morph = pymorphy2.MorphAnalyzer()"
   ]
  },
  {
   "cell_type": "code",
   "execution_count": 10,
   "metadata": {},
   "outputs": [
    {
     "data": {
      "text/plain": [
       "'хотеть'"
      ]
     },
     "execution_count": 10,
     "metadata": {},
     "output_type": "execute_result"
    }
   ],
   "source": [
    "morph.parse(\"хочу\")[0].normal_form"
   ]
  },
  {
   "cell_type": "code",
   "execution_count": 117,
   "metadata": {},
   "outputs": [],
   "source": [
    "line = df.loc[7]['review']"
   ]
  },
  {
   "cell_type": "markdown",
   "metadata": {},
   "source": [
    "emojis dont forget"
   ]
  },
  {
   "cell_type": "code",
   "execution_count": 118,
   "metadata": {},
   "outputs": [
    {
     "data": {
      "text/plain": [
       "'заказала размер s на от 64,об 94,начнем с того, что влезть туда могут 3 меня, они постоянно сползают и заниматься вообще неудобно.  качество ужасное, будто просто одел капроновые колготки и то, не самые лучшие, после первой носки сразу же образовались катышки.носить не буду.\\r\\nчитала отзывы,мб это только мне так не повезлр('"
      ]
     },
     "execution_count": 118,
     "metadata": {},
     "output_type": "execute_result"
    }
   ],
   "source": [
    "line"
   ]
  },
  {
   "cell_type": "code",
   "execution_count": 119,
   "metadata": {},
   "outputs": [],
   "source": [
    "line = line.lower()"
   ]
  },
  {
   "cell_type": "code",
   "execution_count": 120,
   "metadata": {},
   "outputs": [
    {
     "data": {
      "text/plain": [
       "'заказала размер s на от 64,об 94,начнем с того, что влезть туда могут 3 меня, они постоянно сползают и заниматься вообще неудобно.  качество ужасное, будто просто одел капроновые колготки и то, не самые лучшие, после первой носки сразу же образовались катышки.носить не буду.\\r\\nчитала отзывы,мб это только мне так не повезлр('"
      ]
     },
     "execution_count": 120,
     "metadata": {},
     "output_type": "execute_result"
    }
   ],
   "source": [
    "line"
   ]
  },
  {
   "cell_type": "code",
   "execution_count": 121,
   "metadata": {},
   "outputs": [],
   "source": [
    "tokenizer = nltk.RegexpTokenizer(r\"\\w+\")\n",
    "tokens = tokenizer.tokenize(line)"
   ]
  },
  {
   "cell_type": "code",
   "execution_count": 122,
   "metadata": {},
   "outputs": [
    {
     "name": "stdout",
     "output_type": "stream",
     "text": [
      "заказала]  [размер]  [s]  [на]  [от]  [64]  [об]  [94]  [начнем]  [с]  [того]  [что]  [влезть]  [туда]  [могут]  [3]  [меня]  [они]  [постоянно]  [сползают]  [и]  [заниматься]  [вообще]  [неудобно]  [качество]  [ужасное]  [будто]  [просто]  [одел]  [капроновые]  [колготки]  [и]  [то]  [не]  [самые]  [лучшие]  [после]  [первой]  [носки]  [сразу]  [же]  [образовались]  [катышки]  [носить]  [не]  [буду]  [читала]  [отзывы]  [мб]  [это]  [только]  [мне]  [так]  [не]  [повезлр\n"
     ]
    }
   ],
   "source": [
    "print(']  ['.join(tokens))"
   ]
  },
  {
   "cell_type": "code",
   "execution_count": 123,
   "metadata": {},
   "outputs": [],
   "source": [
    "tokens = [token for token in tokens if token not in russian_stopwords\\\n",
    "              and token != \" \" \\\n",
    "              and token.strip() not in punctuation]"
   ]
  },
  {
   "cell_type": "code",
   "execution_count": 124,
   "metadata": {},
   "outputs": [],
   "source": [
    "tokens = [token for token in tokens if token not in english_stopwords\\\n",
    "              and token != \" \" \\\n",
    "              and token.strip() not in punctuation]"
   ]
  },
  {
   "cell_type": "code",
   "execution_count": 125,
   "metadata": {},
   "outputs": [],
   "source": [
    "normal_forms = []\n",
    "for token in tokens:\n",
    "    normal_form = morph.parse(token)[0].normal_form\n",
    "    \n",
    "    if normal_form not in russian_stopwords:    \n",
    "        normal_forms.append(normal_form)"
   ]
  },
  {
   "cell_type": "code",
   "execution_count": 126,
   "metadata": {},
   "outputs": [],
   "source": [
    "tokens = normal_forms"
   ]
  },
  {
   "cell_type": "code",
   "execution_count": 127,
   "metadata": {},
   "outputs": [
    {
     "name": "stderr",
     "output_type": "stream",
     "text": [
      "[nltk_data] Downloading package wordnet to /home/ksenia/nltk_data...\n",
      "[nltk_data]   Package wordnet is already up-to-date!\n",
      "[nltk_data] Downloading package averaged_perceptron_tagger to\n",
      "[nltk_data]     /home/ksenia/nltk_data...\n",
      "[nltk_data]   Package averaged_perceptron_tagger is already up-to-\n",
      "[nltk_data]       date!\n"
     ]
    }
   ],
   "source": [
    "nltk.download('wordnet')\n",
    "nltk.download('averaged_perceptron_tagger')\n",
    "eng_lemmatizer = nltk.stem.WordNetLemmatizer()"
   ]
  },
  {
   "cell_type": "code",
   "execution_count": 128,
   "metadata": {},
   "outputs": [],
   "source": [
    "rus_pattern = re.compile(r'[А-я]+')\n",
    "eng_pattern = re.compile(r'[A-z]+')"
   ]
  },
  {
   "cell_type": "code",
   "execution_count": 129,
   "metadata": {},
   "outputs": [],
   "source": [
    "def get_wordnet_pos(word):\n",
    "    \"\"\"Map POS tag to first character lemmatize() accepts\"\"\"\n",
    "    tag = nltk.pos_tag([word])[0][1][0].upper()\n",
    "    tag_dict = {\"J\": nltk.corpus.wordnet.ADJ,\n",
    "                \"N\": nltk.corpus.wordnet.NOUN,\n",
    "                \"V\": nltk.corpus.wordnet.VERB,\n",
    "                \"R\": nltk.corpus.wordnet.ADV}\n",
    "    return tag_dict.get(tag, nltk.corpus.wordnet.NOUN)"
   ]
  },
  {
   "cell_type": "code",
   "execution_count": 132,
   "metadata": {},
   "outputs": [],
   "source": [
    "normal_forms = []\n",
    "for token in tokens:\n",
    "    if rus_pattern.match(token):\n",
    "        normal_form = morph.parse(token)[0].normal_form\n",
    "        if normal_form not in russian_stopwords:    \n",
    "            normal_forms.append(normal_form)\n",
    "    elif eng_pattern.match(token):\n",
    "        print(token)\n",
    "        normal_form = eng_lemmatizer.lemmatize(token, get_wordnet_pos(token))\n",
    "        if normal_form not in english_stopwords:    \n",
    "            normal_forms.append(normal_form)"
   ]
  },
  {
   "cell_type": "code",
   "execution_count": 133,
   "metadata": {},
   "outputs": [
    {
     "data": {
      "text/plain": [
       "['заказать',\n",
       " 'размер',\n",
       " 'начать',\n",
       " 'влезть',\n",
       " 'туда',\n",
       " 'мочь',\n",
       " 'постоянно',\n",
       " 'сползать',\n",
       " 'заниматься',\n",
       " 'вообще',\n",
       " 'неудобно',\n",
       " 'качество',\n",
       " 'ужасный',\n",
       " 'просто',\n",
       " 'одеть',\n",
       " 'капроновый',\n",
       " 'колготки',\n",
       " 'самый',\n",
       " 'хороший',\n",
       " 'носка',\n",
       " 'сразу',\n",
       " 'образоваться',\n",
       " 'катышек',\n",
       " 'носить',\n",
       " 'читать',\n",
       " 'отзыв',\n",
       " 'мб',\n",
       " 'это',\n",
       " 'повезлр']"
      ]
     },
     "execution_count": 133,
     "metadata": {},
     "output_type": "execute_result"
    }
   ],
   "source": [
    "normal_forms"
   ]
  },
  {
   "cell_type": "markdown",
   "metadata": {},
   "source": [
    "abbreviations and typos"
   ]
  },
  {
   "cell_type": "code",
   "execution_count": 115,
   "metadata": {},
   "outputs": [
    {
     "data": {
      "text/plain": [
       "'tracked'"
      ]
     },
     "execution_count": 115,
     "metadata": {},
     "output_type": "execute_result"
    }
   ],
   "source": [
    "eng_lemmatizer.lemmatize(\"tracked\", get_wordnet_pos('tracked'))"
   ]
  },
  {
   "cell_type": "code",
   "execution_count": 148,
   "metadata": {},
   "outputs": [],
   "source": [
    "def remove(word_list, words_to_remove):\n",
    "    for word in words_to_remove:\n",
    "        try:\n",
    "            word_list.remove(word)\n",
    "        except:\n",
    "            pass\n",
    "\n",
    "remove(russian_stopwords, ('не', 'никогда', 'хорошо', 'конечно'))"
   ]
  },
  {
   "cell_type": "code",
   "execution_count": 149,
   "metadata": {},
   "outputs": [],
   "source": [
    "def preprocess_line(line):\n",
    "    line = line.lower()\n",
    "    tokens = tokenizer.tokenize(line)\n",
    "    \n",
    "    tokens = [token for token in tokens if token not in russian_stopwords\\\n",
    "              and token != \" \" \\\n",
    "              and token.strip() not in punctuation]\n",
    "    \n",
    "    tokens = [token for token in tokens if token not in english_stopwords\\\n",
    "              and token != \" \" \\\n",
    "              and token.strip() not in punctuation]\n",
    "    \n",
    "    normal_forms = []\n",
    "    for token in tokens:\n",
    "        if rus_pattern.match(token):\n",
    "            normal_form = morph.parse(token)[0].normal_form\n",
    "            if normal_form not in russian_stopwords:    \n",
    "                normal_forms.append(normal_form)\n",
    "        elif eng_pattern.match(token):\n",
    "            normal_form = eng_lemmatizer.lemmatize(token, get_wordnet_pos(token))\n",
    "            if normal_form not in english_stopwords:    \n",
    "                normal_forms.append(normal_form)\n",
    "                \n",
    "    return normal_forms"
   ]
  },
  {
   "cell_type": "code",
   "execution_count": 151,
   "metadata": {
    "scrolled": false
   },
   "outputs": [
    {
     "name": "stdout",
     "output_type": "stream",
     "text": [
      "60300 Доставил курьер к дому, не плохой кардиган \n",
      "\t ['доставить', 'курьер', 'дом', 'не', 'плохой', 'кардиган']\n",
      "\n",
      "\n",
      "60301 в принципе норм, но думала что мптериал будет легче. \n",
      "\t ['принцип', 'норма', 'думать', 'мптериал', 'лёгкий']\n",
      "\n",
      "\n",
      "60302 Доставка почти 2а месяца. Юбка так себе на разок, если швы не попалзут \n",
      "\t ['доставка', 'месяц', 'юбка', 'разок', 'шов', 'не', 'попалзти']\n",
      "\n",
      "\n",
      "60303 костюм очень теплый,жена счастлива,советую \n",
      "\t ['костюм', 'очень', 'тёплый', 'жена', 'счастливый', 'советовать']\n",
      "\n",
      "\n",
      "60304 велико на об 108, от 85, ог 98. очень расстроена, т.к. фасон, ткань, цвет просто обалденные \n",
      "\t ['большой', 'ог', 'очень', 'расстроить', 'фасон', 'ткань', 'цвета', 'просто', 'обалденный']\n",
      "\n",
      "\n",
      "60305 Стиль Boho. 100% cotton. Сделано в Китае. Кое-где из швов торчат ниточки. В целом очень достойно для жаркой погоды/отпуска/дома. Гладится и отпаривается хорошо, но так же быстро мнется. На рост 168 и объем груди 110 заказан 4XL, на мой взгляд великоват, можно брать поменьше. Комфортно, но руки путаются в ткани, когда ищешь карманы. Фотографиям на сайте соответствует. Продавец отработал отлично, трек отслеживался. Как оказалось, в стоимость входила бесплатная доставка до дома, но получили сами. Заказали 14 октября, получили 14 ноября - Россия, Пермь. \n",
      "\t ['стиль', 'boho', 'cotton', 'сделать', 'китай', 'кой', 'шов', 'торчать', 'ниточка', 'целое', 'очень', 'достойно', 'жарка', 'погода', 'отпуск', 'дом', 'гладиться', 'отпариваться', 'хорошо', 'быстро', 'мяться', 'рост', 'объесть', 'грудь', 'заказать', 'взгляд', 'великоватый', 'брать', 'маленький', 'комфортно', 'рука', 'путаться', 'ткань', 'искать', 'карман', 'фотография', 'сайт', 'соответствовать', 'продавец', 'отработать', 'отлично', 'трек', 'отслеживаться', 'оказаться', 'стоимость', 'входить', 'бесплатный', 'доставка', 'дом', 'получить', 'заказать', 'октябрь', 'получить', 'ноябрь', 'россия', 'пермь']\n",
      "\n",
      "\n",
      "60306 Прекрасная блуза. Ткань- синтетика, но мне понравилась. Люблю слегка стретчевые непрозрачные ткани. Пошив аккуратный. На обхват груди-104 см и обхват талии 90 см села хорошо. При росте 158 см рукава впору. Доставка до Москвы за три недели. Трек отслеживался. Рекомендую товар и продавца. \n",
      "\t ['прекрасный', 'блуза', 'ткань', 'синтетик', 'понравиться', 'любить', 'слегка', 'стретчевой', 'непрозрачный', 'ткань', 'пошив', 'аккуратный', 'обхват', 'грудь', 'сантиметр', 'обхват', 'талия', 'сантиметр', 'село', 'хорошо', 'рост', 'сантиметр', 'рукав', 'впору', 'доставка', 'москва', 'неделя', 'трек', 'отслеживаться', 'рекомендовать', 'товар', 'продавец']\n",
      "\n",
      "\n",
      "60307 товар не пришел,  продавец общительный и  сразу вернул деньги, буду заказывать ещё \n",
      "\t ['товар', 'не', 'прийти', 'продавец', 'общительный', 'сразу', 'вернуть', 'деньга', 'заказывать', 'ещё']\n",
      "\n",
      "\n",
      "60308 легинсы отличного качества. сг шиты хорошо. ткань очень приятная к телу. очень рекомендую. трек отслеживался. пришло за 2 недели \n",
      "\t ['легинс', 'отличный', 'качество', 'сг', 'шитый', 'хорошо', 'ткань', 'очень', 'приятный', 'тело', 'очень', 'рекомендовать', 'трек', 'отслеживаться', 'пришлый', 'неделя']\n",
      "\n",
      "\n",
      "60309 Доставка 3 недели. за свою цену нормальные. Самые простые. Подошли и взрослому, и подросткам. \n",
      "\t ['доставка', 'неделя', 'цена', 'нормальный', 'самый', 'простой', 'подойти', 'взрослый', 'подросток']\n",
      "\n",
      "\n",
      "60310 спасибо, хорошие штанишки \n",
      "\t ['спасибо', 'хороший', 'штанишки']\n",
      "\n",
      "\n",
      "60311 Чудо! \n",
      "\t ['чудо']\n",
      "\n",
      "\n",
      "60312 все как на картинке, запаха нет, очень мягкая ткань. доставка быстрая. размер можно было брать на один меньше, а так получилось довольно свободно \n",
      "\t ['картинка', 'запах', 'очень', 'мягкий', 'ткань', 'доставка', 'быстрый', 'размер', 'брать', 'маленький', 'получиться', 'довольно', 'свободно']\n",
      "\n",
      "\n",
      "60313 Хорошо,подошли, идут в размер, не просвечивают. \n",
      "\t ['хорошо', 'подойти', 'идти', 'размер', 'не', 'просвечивать']\n",
      "\n",
      "\n",
      "60314 Очень удобный бюстгальтер. Мягкий. Очень довольна, буду заказывать ещё. Доставка в Москву шла 2,5 недели \n",
      "\t ['очень', 'удобный', 'бюстгальтер', 'мягкий', 'очень', 'довольный', 'заказывать', 'ещё', 'доставка', 'москва', 'идти', 'неделя']\n",
      "\n",
      "\n",
      "60315 Замечательная, очень довольна)) приятная на ощупь, нигде ничего не торчит, хорошо прошита, тепленькая, быстро пришла  \n",
      "\t ['замечательный', 'очень', 'довольный', 'приятный', 'ощупь', 'нигде', 'не', 'торчать', 'хорошо', 'прошить', 'тёпленький', 'быстро', 'пришлый']\n",
      "\n",
      "\n",
      "60316 отличное качество, быстрая доставка, заказывала S великоват \n",
      "\t ['отличный', 'качество', 'быстрый', 'доставка', 'заказывать', 'великоватый']\n",
      "\n",
      "\n",
      "60317 Заказала 30.12.17, получила 12.01.18, всё соответствует описанию, всё подошло, соответствует размерам продавца. Продавца рекомендую, товар тем более!!! \n",
      "\t ['заказать', 'получить', 'весь', 'соответствовать', 'описание', 'весь', 'подойти', 'соответствовать', 'размер', 'продавец', 'продавец', 'рекомендовать', 'товар']\n",
      "\n",
      "\n",
      "60318 к сожалению почта напутала и посылку я не  получила.  но деньги вернули без проблем, поэтому 5 звёзд. \n",
      "\t ['сожаление', 'почта', 'напутать', 'посылка', 'не', 'получить', 'деньга', 'вернуть', 'проблема', 'поэтому', 'звезда']\n",
      "\n",
      "\n",
      "60319 Очень красивый шарф. Очень мягкий и приятный. Цвет более тёплый чем у продавца. Заказывала одновременно 2 шарфа. \"light gray\" и \"\"camel\" у светлого материал мягче и плотнее. Легче гладить. Шарф немного линяет. Посылка пришла за 2 недели до Уфы. Спасибо продавцу \n",
      "\t ['очень', 'красивый', 'шарф', 'очень', 'мягкий', 'приятный', 'цвета', 'тёплый', 'продавец', 'заказывать', 'одновременно', 'шарф', 'light', 'gray', 'camel', 'светлый', 'материал', 'мягкий', 'плотный', 'лёгкий', 'гладить', 'шарф', 'немного', 'линять', 'посылка', 'пришлый', 'неделя', 'уфа', 'спасибо', 'продавец']\n",
      "\n",
      "\n",
      "60320 Отличная рубашка! Очень плотная, не на совсем жаркую погоду. В офис отлично смотрится! 100% хлопок, рисунок яркий, посторонних запахов нет. Если после стирки не полиняет, то куплю еще других цветов! \n",
      "\t ['отличный', 'рубашка', 'очень', 'плотный', 'не', 'жаркий', 'погода', 'офис', 'отлично', 'смотреться', 'хлопок', 'рисунок', 'яркий', 'посторонний', 'запах', 'стирка', 'не', 'полинять', 'купить', 'цветок']\n",
      "\n",
      "\n",
      "60321 Thanks a lot, it is very good, but little small size for me \n",
      "\t ['thanks', 'lot', 'good', 'little', 'small', 'size']\n",
      "\n",
      "\n",
      "60322 Шапка классная!  Трек отслеживался,  доставка быстрая. Рекомендую. \n",
      "\t ['шапка', 'классный', 'трек', 'отслеживаться', 'доставка', 'быстрый', 'рекомендовать']\n",
      "\n",
      "\n",
      "60323 Доставка 3 недели до РК, качество норм) \n",
      "\t ['доставка', 'неделя', 'рк', 'качество', 'норма']\n",
      "\n",
      "\n",
      "60324 доставка быстрая, качество хорошее \n",
      "\t ['доставка', 'быстрый', 'качество', 'хороший']\n",
      "\n",
      "\n",
      "60325 XL на 46 размер как раз (чуть тесноват в бедрах, но в целом ок. Очень приятная и легкая курточка). Не такая тонкая, как я ожидала, вполне пойдет на осень. \n",
      "\t ['xl', 'размер', 'тесноватый', 'бедро', 'целое', 'ок', 'очень', 'приятный', 'лёгкий', 'курточка', 'не', 'тонкий', 'ожидать', 'вполне', 'пойти', 'осень']\n",
      "\n",
      "\n",
      "60326 хорошая кофточка, качественная .пришла быстро заказывала 11.11 пришла 30.11. подошла по размеру на 42_44 взяла s \n",
      "\t ['хороший', 'кофточка', 'качественный', 'пришлый', 'быстро', 'заказывать', 'пришлый', 'подойти', 'размер', 'взять']\n",
      "\n",
      "\n",
      "60327 Буду петь оды этим джинсам, ибо это просто чудо! очень мягкие, колом не стоят, теплые. на талию 78 и бедра 102 по совету продавца заказала 30 размер, сели идеально. смотрятся как на модели. есть запас и для новогодних каникул и для колгот,  на случай сильных морозов.  рост 168, по длине чуть ниже косточки. пошить прекрасно, нитки не торчат, швы ровные, края обработаны оверлоком. Рекомендую товар! пришли довольно скоро. \n",
      "\t ['петь', 'ода', 'это', 'джинсы', 'ибо', 'это', 'просто', 'чудо', 'очень', 'мягкий', 'кол', 'не', 'стоять', 'тёплый', 'талия', 'бедро', 'совет', 'продавец', 'заказать', 'размер', 'сесть', 'идеально', 'смотреться', 'модель', 'запас', 'новогодний', 'каникулы', 'колгот', 'случай', 'сильный', 'морозов', 'рост', 'длина', 'ниже', 'косточка', 'пошить', 'прекрасно', 'нитка', 'не', 'торчать', 'шов', 'ровный', 'край', 'обработать', 'оверлоко', 'рекомендовать', 'товар', 'прислать', 'довольно', 'скоро']\n",
      "\n",
      "\n",
      "60328 Комплект хороший, идет размер в размер, пуш-ап средний, сел идеально. Спасибо продавцу за быструю доставку. \n",
      "\t ['комплект', 'хороший', 'идти', 'размер', 'размер', 'пуш', 'ап', 'средний', 'сесть', 'идеально', 'спасибо', 'продавец', 'быстрый', 'доставка']\n",
      "\n",
      "\n",
      "60329 Рубашка очень красивая, качество понравилось. Вроде бы все хорошо, но в бёдрах очень стягивает. До рт пришла за 19 дней  \n",
      "\t ['рубашка', 'очень', 'красивый', 'качество', 'понравиться', 'вроде', 'хорошо', 'бедро', 'очень', 'стягивать', 'рт', 'пришлый', 'день']\n",
      "\n",
      "\n"
     ]
    }
   ],
   "source": [
    "for i in range(60300, 60300 + 30):\n",
    "    print(i, df.loc[i]['review'], '\\n\\t', preprocess_line(df.loc[i]['review']))\n",
    "    print('\\n')"
   ]
  },
  {
   "cell_type": "code",
   "execution_count": null,
   "metadata": {},
   "outputs": [],
   "source": []
  }
 ],
 "metadata": {
  "kernelspec": {
   "display_name": "Python 3",
   "language": "python",
   "name": "python3"
  },
  "language_info": {
   "codemirror_mode": {
    "name": "ipython",
    "version": 3
   },
   "file_extension": ".py",
   "mimetype": "text/x-python",
   "name": "python",
   "nbconvert_exporter": "python",
   "pygments_lexer": "ipython3",
   "version": "3.6.9"
  }
 },
 "nbformat": 4,
 "nbformat_minor": 4
}
