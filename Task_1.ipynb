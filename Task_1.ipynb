{
 "cells": [
  {
   "cell_type": "code",
   "execution_count": 1,
   "metadata": {},
   "outputs": [],
   "source": [
    "import pandas as pd\n",
    "from string import punctuation\n",
    "\n",
    "import nltk\n",
    "import pymorphy2\n",
    "import re\n",
    "\n",
    "from tqdm import tqdm\n",
    "import os\n",
    "\n",
    "from sklearn.model_selection import StratifiedKFold\n",
    "from sklearn.metrics import confusion_matrix, classification_report\n",
    "\n",
    "import matplotlib.pyplot as plt\n",
    "\n",
    "import torch\n",
    "from torch.utils.data.sampler import RandomSampler, SequentialSampler\n",
    "from torch.utils.data import Dataset\n",
    "\n",
    "from torchnlp.word_to_vector import FastText\n",
    "\n",
    "import numpy as np\n",
    "import random\n",
    "\n",
    "torch.manual_seed(12)\n",
    "torch.cuda.manual_seed(12)\n",
    "np.random.seed(12)\n",
    "random.seed(12)\n",
    "\n",
    "torch.backends.cudnn.deterministic = True\n",
    "torch.backends.cudnn.benchmark = False"
   ]
  },
  {
   "cell_type": "markdown",
   "metadata": {},
   "source": [
    "# Загружаем данные"
   ]
  },
  {
   "cell_type": "code",
   "execution_count": 2,
   "metadata": {},
   "outputs": [],
   "source": [
    "path = 'women-clothing-accessories.3-class.balanced.csv'"
   ]
  },
  {
   "cell_type": "code",
   "execution_count": 3,
   "metadata": {},
   "outputs": [],
   "source": [
    "df = pd.read_csv(path, sep='\\t', header=0)"
   ]
  },
  {
   "cell_type": "markdown",
   "metadata": {},
   "source": [
    "# Tiny EDA"
   ]
  },
  {
   "cell_type": "code",
   "execution_count": 4,
   "metadata": {},
   "outputs": [
    {
     "data": {
      "text/html": [
       "<div>\n",
       "<style scoped>\n",
       "    .dataframe tbody tr th:only-of-type {\n",
       "        vertical-align: middle;\n",
       "    }\n",
       "\n",
       "    .dataframe tbody tr th {\n",
       "        vertical-align: top;\n",
       "    }\n",
       "\n",
       "    .dataframe thead th {\n",
       "        text-align: right;\n",
       "    }\n",
       "</style>\n",
       "<table border=\"1\" class=\"dataframe\">\n",
       "  <thead>\n",
       "    <tr style=\"text-align: right;\">\n",
       "      <th></th>\n",
       "      <th>review</th>\n",
       "      <th>sentiment</th>\n",
       "    </tr>\n",
       "  </thead>\n",
       "  <tbody>\n",
       "    <tr>\n",
       "      <th>0</th>\n",
       "      <td>качество плохое пошив ужасный (горловина напер...</td>\n",
       "      <td>negative</td>\n",
       "    </tr>\n",
       "    <tr>\n",
       "      <th>1</th>\n",
       "      <td>Товар отдали другому человеку, я не получила п...</td>\n",
       "      <td>negative</td>\n",
       "    </tr>\n",
       "    <tr>\n",
       "      <th>2</th>\n",
       "      <td>Ужасная синтетика! Тонкая, ничего общего с пре...</td>\n",
       "      <td>negative</td>\n",
       "    </tr>\n",
       "    <tr>\n",
       "      <th>3</th>\n",
       "      <td>товар не пришел, продавец продлил защиту без м...</td>\n",
       "      <td>negative</td>\n",
       "    </tr>\n",
       "    <tr>\n",
       "      <th>4</th>\n",
       "      <td>Кофточка голая синтетика, носить не возможно.</td>\n",
       "      <td>negative</td>\n",
       "    </tr>\n",
       "    <tr>\n",
       "      <th>...</th>\n",
       "      <td>...</td>\n",
       "      <td>...</td>\n",
       "    </tr>\n",
       "    <tr>\n",
       "      <th>89995</th>\n",
       "      <td>сделано достаточно хорошо. на ткани сделан рис...</td>\n",
       "      <td>positive</td>\n",
       "    </tr>\n",
       "    <tr>\n",
       "      <th>89996</th>\n",
       "      <td>Накидка шикарная. Спасибо большое провдо линяе...</td>\n",
       "      <td>positive</td>\n",
       "    </tr>\n",
       "    <tr>\n",
       "      <th>89997</th>\n",
       "      <td>спасибо большое ) продовца рекомендую.. заказа...</td>\n",
       "      <td>positive</td>\n",
       "    </tr>\n",
       "    <tr>\n",
       "      <th>89998</th>\n",
       "      <td>Очень довольна заказом! Меньше месяца в РБ.  К...</td>\n",
       "      <td>positive</td>\n",
       "    </tr>\n",
       "    <tr>\n",
       "      <th>89999</th>\n",
       "      <td>хорошая куртка. постороннего запаха нет. швы р...</td>\n",
       "      <td>positive</td>\n",
       "    </tr>\n",
       "  </tbody>\n",
       "</table>\n",
       "<p>90000 rows × 2 columns</p>\n",
       "</div>"
      ],
      "text/plain": [
       "                                                  review sentiment\n",
       "0      качество плохое пошив ужасный (горловина напер...  negative\n",
       "1      Товар отдали другому человеку, я не получила п...  negative\n",
       "2      Ужасная синтетика! Тонкая, ничего общего с пре...  negative\n",
       "3      товар не пришел, продавец продлил защиту без м...  negative\n",
       "4          Кофточка голая синтетика, носить не возможно.  negative\n",
       "...                                                  ...       ...\n",
       "89995  сделано достаточно хорошо. на ткани сделан рис...  positive\n",
       "89996  Накидка шикарная. Спасибо большое провдо линяе...  positive\n",
       "89997  спасибо большое ) продовца рекомендую.. заказа...  positive\n",
       "89998  Очень довольна заказом! Меньше месяца в РБ.  К...  positive\n",
       "89999  хорошая куртка. постороннего запаха нет. швы р...  positive\n",
       "\n",
       "[90000 rows x 2 columns]"
      ]
     },
     "execution_count": 4,
     "metadata": {},
     "output_type": "execute_result"
    }
   ],
   "source": [
    "df"
   ]
  },
  {
   "cell_type": "markdown",
   "metadata": {},
   "source": [
    "Посмотрим, есть ли дизбаланс"
   ]
  },
  {
   "cell_type": "code",
   "execution_count": 5,
   "metadata": {},
   "outputs": [
    {
     "data": {
      "text/plain": [
       "<matplotlib.axes._subplots.AxesSubplot at 0x7f35b84d55f8>"
      ]
     },
     "execution_count": 5,
     "metadata": {},
     "output_type": "execute_result"
    },
    {
     "data": {
      "image/png": "[encoded data removed]",
      "text/plain": [
       "<Figure size 432x288 with 1 Axes>"
      ]
     },
     "metadata": {},
     "output_type": "display_data"
    }
   ],
   "source": [
    "df['sentiment'].value_counts().plot(kind='pie')"
   ]
  },
  {
   "cell_type": "markdown",
   "metadata": {},
   "source": [
    "Дизбаланса нет, супер!"
   ]
  },
  {
   "cell_type": "markdown",
   "metadata": {},
   "source": [
    "# Препроцессинг\n",
    "\n",
    "Загружаем стоп-слова и лемматизаторы для английского и для русского (потому что в датасете перемешанные языки)"
   ]
  },
  {
   "cell_type": "code",
   "execution_count": 6,
   "metadata": {},
   "outputs": [
    {
     "name": "stderr",
     "output_type": "stream",
     "text": [
      "[nltk_data] Downloading package stopwords to /home/ksenia/nltk_data...\n",
      "[nltk_data]   Package stopwords is already up-to-date!\n"
     ]
    }
   ],
   "source": [
    "nltk.download('stopwords')\n",
    "russian_stopwords = nltk.corpus.stopwords.words(\"russian\")\n",
    "english_stopwords = nltk.corpus.stopwords.words(\"english\")"
   ]
  },
  {
   "cell_type": "code",
   "execution_count": 7,
   "metadata": {},
   "outputs": [],
   "source": [
    "rus_lemmatizer = pymorphy2.MorphAnalyzer()"
   ]
  },
  {
   "cell_type": "code",
   "execution_count": 8,
   "metadata": {},
   "outputs": [
    {
     "name": "stderr",
     "output_type": "stream",
     "text": [
      "[nltk_data] Downloading package wordnet to /home/ksenia/nltk_data...\n",
      "[nltk_data]   Package wordnet is already up-to-date!\n",
      "[nltk_data] Downloading package averaged_perceptron_tagger to\n",
      "[nltk_data]     /home/ksenia/nltk_data...\n",
      "[nltk_data]   Package averaged_perceptron_tagger is already up-to-\n",
      "[nltk_data]       date!\n"
     ]
    }
   ],
   "source": [
    "nltk.download('wordnet')\n",
    "nltk.download('averaged_perceptron_tagger')\n",
    "eng_lemmatizer = nltk.stem.WordNetLemmatizer()"
   ]
  },
  {
   "cell_type": "markdown",
   "metadata": {},
   "source": [
    "Загружаем токенайзер"
   ]
  },
  {
   "cell_type": "code",
   "execution_count": 9,
   "metadata": {},
   "outputs": [],
   "source": [
    "tokenizer = nltk.RegexpTokenizer(r\"\\w+\")"
   ]
  },
  {
   "cell_type": "markdown",
   "metadata": {},
   "source": [
    "Создаем резулярные выражения для русского и английского языков"
   ]
  },
  {
   "cell_type": "code",
   "execution_count": 10,
   "metadata": {},
   "outputs": [],
   "source": [
    "rus_pattern = re.compile(r'[А-я]+')\n",
    "eng_pattern = re.compile(r'[A-z]+')"
   ]
  },
  {
   "cell_type": "markdown",
   "metadata": {},
   "source": [
    "Вспомогательные функции для предобработки"
   ]
  },
  {
   "cell_type": "code",
   "execution_count": 11,
   "metadata": {},
   "outputs": [],
   "source": [
    "def get_wordnet_pos(word):\n",
    "    \"\"\"Map POS tag to first character lemmatize() accepts\"\"\"\n",
    "    tag = nltk.pos_tag([word])[0][1][0].upper()\n",
    "    tag_dict = {\"J\": nltk.corpus.wordnet.ADJ,\n",
    "                \"N\": nltk.corpus.wordnet.NOUN,\n",
    "                \"V\": nltk.corpus.wordnet.VERB,\n",
    "                \"R\": nltk.corpus.wordnet.ADV}\n",
    "    return tag_dict.get(tag, nltk.corpus.wordnet.NOUN)"
   ]
  },
  {
   "cell_type": "markdown",
   "metadata": {},
   "source": [
    "Удаляем из списка стоп-слова, которые могут влиять на таргет"
   ]
  },
  {
   "cell_type": "code",
   "execution_count": 12,
   "metadata": {},
   "outputs": [],
   "source": [
    "def remove(word_list, words_to_remove):\n",
    "    for word in words_to_remove:\n",
    "        try:\n",
    "            word_list.remove(word)\n",
    "        except:\n",
    "            pass\n",
    "\n",
    "remove(russian_stopwords, ('не', 'никогда', 'хорошо', 'конечно', 'лучше', 'нельзя', 'наконец', 'еще', 'без'))"
   ]
  },
  {
   "cell_type": "markdown",
   "metadata": {},
   "source": [
    "Функция для препроцессинга"
   ]
  },
  {
   "cell_type": "code",
   "execution_count": 13,
   "metadata": {},
   "outputs": [],
   "source": [
    "def preprocess_line(row):\n",
    "    line = row['review'].lower()\n",
    "    tokens = tokenizer.tokenize(line)\n",
    "    \n",
    "    tokens = [token for token in tokens if token not in russian_stopwords\\\n",
    "              and token != \" \" \\\n",
    "              and token.strip() not in punctuation]\n",
    "    \n",
    "    tokens = [token for token in tokens if token not in english_stopwords\\\n",
    "              and token != \" \" \\\n",
    "              and token.strip() not in punctuation]\n",
    "    \n",
    "    normal_forms = []\n",
    "    for token in tokens:\n",
    "        if rus_pattern.match(token):\n",
    "            normal_form = rus_lemmatizer.parse(token)[0].normal_form\n",
    "            if normal_form not in russian_stopwords:    \n",
    "                normal_forms.append(normal_form)\n",
    "        elif eng_pattern.match(token):\n",
    "            normal_form = eng_lemmatizer.lemmatize(token, get_wordnet_pos(token))\n",
    "            if normal_form not in english_stopwords:    \n",
    "                normal_forms.append(normal_form)\n",
    "                \n",
    "    row['tokens'] = normal_forms\n",
    "    row['strat_kfold'] = '{}_{}'.format(row['sentiment'], len(normal_forms))\n",
    "    return row"
   ]
  },
  {
   "cell_type": "markdown",
   "metadata": {},
   "source": [
    "Запускаем препроцессинг (для всего датасета он занимает примерно 3 минуты)"
   ]
  },
  {
   "cell_type": "code",
   "execution_count": 14,
   "metadata": {},
   "outputs": [],
   "source": [
    "tqdm.pandas()"
   ]
  },
  {
   "cell_type": "code",
   "execution_count": 15,
   "metadata": {},
   "outputs": [
    {
     "name": "stderr",
     "output_type": "stream",
     "text": [
      "100%|██████████| 90000/90000 [03:14<00:00, 463.31it/s]\n"
     ]
    }
   ],
   "source": [
    "df = df.progress_apply(preprocess_line, axis=1)"
   ]
  },
  {
   "cell_type": "code",
   "execution_count": 16,
   "metadata": {},
   "outputs": [
    {
     "data": {
      "text/html": [
       "<div>\n",
       "<style scoped>\n",
       "    .dataframe tbody tr th:only-of-type {\n",
       "        vertical-align: middle;\n",
       "    }\n",
       "\n",
       "    .dataframe tbody tr th {\n",
       "        vertical-align: top;\n",
       "    }\n",
       "\n",
       "    .dataframe thead th {\n",
       "        text-align: right;\n",
       "    }\n",
       "</style>\n",
       "<table border=\"1\" class=\"dataframe\">\n",
       "  <thead>\n",
       "    <tr style=\"text-align: right;\">\n",
       "      <th></th>\n",
       "      <th>review</th>\n",
       "      <th>sentiment</th>\n",
       "      <th>tokens</th>\n",
       "      <th>strat_kfold</th>\n",
       "    </tr>\n",
       "  </thead>\n",
       "  <tbody>\n",
       "    <tr>\n",
       "      <th>0</th>\n",
       "      <td>качество плохое пошив ужасный (горловина напер...</td>\n",
       "      <td>negative</td>\n",
       "      <td>[качество, плохой, пошив, ужасный, горловина, ...</td>\n",
       "      <td>negative_21</td>\n",
       "    </tr>\n",
       "    <tr>\n",
       "      <th>1</th>\n",
       "      <td>Товар отдали другому человеку, я не получила п...</td>\n",
       "      <td>negative</td>\n",
       "      <td>[товар, отдать, человек, не, получить, посылка...</td>\n",
       "      <td>negative_9</td>\n",
       "    </tr>\n",
       "    <tr>\n",
       "      <th>2</th>\n",
       "      <td>Ужасная синтетика! Тонкая, ничего общего с пре...</td>\n",
       "      <td>negative</td>\n",
       "      <td>[ужасный, синтетик, тонкий, общий, представить...</td>\n",
       "      <td>negative_20</td>\n",
       "    </tr>\n",
       "    <tr>\n",
       "      <th>3</th>\n",
       "      <td>товар не пришел, продавец продлил защиту без м...</td>\n",
       "      <td>negative</td>\n",
       "      <td>[товар, не, прийти, продавец, продлить, защита...</td>\n",
       "      <td>negative_10</td>\n",
       "    </tr>\n",
       "    <tr>\n",
       "      <th>4</th>\n",
       "      <td>Кофточка голая синтетика, носить не возможно.</td>\n",
       "      <td>negative</td>\n",
       "      <td>[кофточка, голый, синтетик, носить, не, возможно]</td>\n",
       "      <td>negative_6</td>\n",
       "    </tr>\n",
       "    <tr>\n",
       "      <th>...</th>\n",
       "      <td>...</td>\n",
       "      <td>...</td>\n",
       "      <td>...</td>\n",
       "      <td>...</td>\n",
       "    </tr>\n",
       "    <tr>\n",
       "      <th>89995</th>\n",
       "      <td>сделано достаточно хорошо. на ткани сделан рис...</td>\n",
       "      <td>positive</td>\n",
       "      <td>[сделать, достаточно, хорошо, ткань, сделать, ...</td>\n",
       "      <td>positive_13</td>\n",
       "    </tr>\n",
       "    <tr>\n",
       "      <th>89996</th>\n",
       "      <td>Накидка шикарная. Спасибо большое провдо линяе...</td>\n",
       "      <td>positive</td>\n",
       "      <td>[накидка, шикарный, спасибо, большой, провдо, ...</td>\n",
       "      <td>positive_16</td>\n",
       "    </tr>\n",
       "    <tr>\n",
       "      <th>89997</th>\n",
       "      <td>спасибо большое ) продовца рекомендую.. заказа...</td>\n",
       "      <td>positive</td>\n",
       "      <td>[спасибо, большой, продовца, рекомендовать, за...</td>\n",
       "      <td>positive_6</td>\n",
       "    </tr>\n",
       "    <tr>\n",
       "      <th>89998</th>\n",
       "      <td>Очень довольна заказом! Меньше месяца в РБ.  К...</td>\n",
       "      <td>positive</td>\n",
       "      <td>[очень, довольный, заказ, маленький, месяц, рб...</td>\n",
       "      <td>positive_15</td>\n",
       "    </tr>\n",
       "    <tr>\n",
       "      <th>89999</th>\n",
       "      <td>хорошая куртка. постороннего запаха нет. швы р...</td>\n",
       "      <td>positive</td>\n",
       "      <td>[хороший, куртка, посторонний, запах, шов, ров...</td>\n",
       "      <td>positive_16</td>\n",
       "    </tr>\n",
       "  </tbody>\n",
       "</table>\n",
       "<p>90000 rows × 4 columns</p>\n",
       "</div>"
      ],
      "text/plain": [
       "                                                  review sentiment  \\\n",
       "0      качество плохое пошив ужасный (горловина напер...  negative   \n",
       "1      Товар отдали другому человеку, я не получила п...  negative   \n",
       "2      Ужасная синтетика! Тонкая, ничего общего с пре...  negative   \n",
       "3      товар не пришел, продавец продлил защиту без м...  negative   \n",
       "4          Кофточка голая синтетика, носить не возможно.  negative   \n",
       "...                                                  ...       ...   \n",
       "89995  сделано достаточно хорошо. на ткани сделан рис...  positive   \n",
       "89996  Накидка шикарная. Спасибо большое провдо линяе...  positive   \n",
       "89997  спасибо большое ) продовца рекомендую.. заказа...  positive   \n",
       "89998  Очень довольна заказом! Меньше месяца в РБ.  К...  positive   \n",
       "89999  хорошая куртка. постороннего запаха нет. швы р...  positive   \n",
       "\n",
       "                                                  tokens  strat_kfold  \n",
       "0      [качество, плохой, пошив, ужасный, горловина, ...  negative_21  \n",
       "1      [товар, отдать, человек, не, получить, посылка...   negative_9  \n",
       "2      [ужасный, синтетик, тонкий, общий, представить...  negative_20  \n",
       "3      [товар, не, прийти, продавец, продлить, защита...  negative_10  \n",
       "4      [кофточка, голый, синтетик, носить, не, возможно]   negative_6  \n",
       "...                                                  ...          ...  \n",
       "89995  [сделать, достаточно, хорошо, ткань, сделать, ...  positive_13  \n",
       "89996  [накидка, шикарный, спасибо, большой, провдо, ...  positive_16  \n",
       "89997  [спасибо, большой, продовца, рекомендовать, за...   positive_6  \n",
       "89998  [очень, довольный, заказ, маленький, месяц, рб...  positive_15  \n",
       "89999  [хороший, куртка, посторонний, запах, шов, ров...  positive_16  \n",
       "\n",
       "[90000 rows x 4 columns]"
      ]
     },
     "execution_count": 16,
     "metadata": {},
     "output_type": "execute_result"
    }
   ],
   "source": [
    "df"
   ]
  },
  {
   "cell_type": "markdown",
   "metadata": {},
   "source": [
    "Загружаем эмбеддинги"
   ]
  },
  {
   "cell_type": "code",
   "execution_count": 17,
   "metadata": {},
   "outputs": [],
   "source": [
    "ru_embeddings = FastText(language='ru')\n",
    "en_embeddings = FastText(language='en')"
   ]
  },
  {
   "cell_type": "markdown",
   "metadata": {},
   "source": [
    "# Разбиение на трейн и тест"
   ]
  },
  {
   "cell_type": "markdown",
   "metadata": {},
   "source": [
    "Разобъем датасет с помощью приема, который используется для кросс-валидации. Я решила так поступить для того, чтобы распределения трейна и теста были как можно более похожими"
   ]
  },
  {
   "cell_type": "code",
   "execution_count": 18,
   "metadata": {},
   "outputs": [],
   "source": [
    "stratified_kfold = StratifiedKFold(n_splits=5, shuffle=True, random_state=42)"
   ]
  },
  {
   "cell_type": "code",
   "execution_count": 19,
   "metadata": {},
   "outputs": [
    {
     "name": "stderr",
     "output_type": "stream",
     "text": [
      "/home/ksenia/frow_home_projects/env/lib/python3.6/site-packages/sklearn/model_selection/_split.py:652: Warning: The least populated class in y has only 1 members, which is too few. The minimum number of members in any class cannot be less than n_splits=5.\n",
      "  % (min_groups, self.n_splits)), Warning)\n"
     ]
    }
   ],
   "source": [
    "for fold_number, (train_index, val_index) in enumerate(stratified_kfold.split(X=df.index, y=df['strat_kfold'])):\n",
    "    df.loc[df.iloc[val_index].index, 'fold'] = fold_number"
   ]
  },
  {
   "cell_type": "markdown",
   "metadata": {},
   "source": [
    "Удаляем строки, которые после препроцессинга растеряли все слова"
   ]
  },
  {
   "cell_type": "code",
   "execution_count": 20,
   "metadata": {},
   "outputs": [],
   "source": [
    "df = df[df['tokens'].apply(len) != 0]"
   ]
  },
  {
   "cell_type": "code",
   "execution_count": 21,
   "metadata": {},
   "outputs": [
    {
     "data": {
      "text/html": [
       "<div>\n",
       "<style scoped>\n",
       "    .dataframe tbody tr th:only-of-type {\n",
       "        vertical-align: middle;\n",
       "    }\n",
       "\n",
       "    .dataframe tbody tr th {\n",
       "        vertical-align: top;\n",
       "    }\n",
       "\n",
       "    .dataframe thead th {\n",
       "        text-align: right;\n",
       "    }\n",
       "</style>\n",
       "<table border=\"1\" class=\"dataframe\">\n",
       "  <thead>\n",
       "    <tr style=\"text-align: right;\">\n",
       "      <th></th>\n",
       "      <th>review</th>\n",
       "      <th>sentiment</th>\n",
       "      <th>tokens</th>\n",
       "      <th>strat_kfold</th>\n",
       "      <th>fold</th>\n",
       "    </tr>\n",
       "  </thead>\n",
       "  <tbody>\n",
       "    <tr>\n",
       "      <th>0</th>\n",
       "      <td>качество плохое пошив ужасный (горловина напер...</td>\n",
       "      <td>negative</td>\n",
       "      <td>[качество, плохой, пошив, ужасный, горловина, ...</td>\n",
       "      <td>negative_21</td>\n",
       "      <td>0.0</td>\n",
       "    </tr>\n",
       "    <tr>\n",
       "      <th>1</th>\n",
       "      <td>Товар отдали другому человеку, я не получила п...</td>\n",
       "      <td>negative</td>\n",
       "      <td>[товар, отдать, человек, не, получить, посылка...</td>\n",
       "      <td>negative_9</td>\n",
       "      <td>2.0</td>\n",
       "    </tr>\n",
       "    <tr>\n",
       "      <th>2</th>\n",
       "      <td>Ужасная синтетика! Тонкая, ничего общего с пре...</td>\n",
       "      <td>negative</td>\n",
       "      <td>[ужасный, синтетик, тонкий, общий, представить...</td>\n",
       "      <td>negative_20</td>\n",
       "      <td>1.0</td>\n",
       "    </tr>\n",
       "    <tr>\n",
       "      <th>3</th>\n",
       "      <td>товар не пришел, продавец продлил защиту без м...</td>\n",
       "      <td>negative</td>\n",
       "      <td>[товар, не, прийти, продавец, продлить, защита...</td>\n",
       "      <td>negative_10</td>\n",
       "      <td>2.0</td>\n",
       "    </tr>\n",
       "    <tr>\n",
       "      <th>4</th>\n",
       "      <td>Кофточка голая синтетика, носить не возможно.</td>\n",
       "      <td>negative</td>\n",
       "      <td>[кофточка, голый, синтетик, носить, не, возможно]</td>\n",
       "      <td>negative_6</td>\n",
       "      <td>2.0</td>\n",
       "    </tr>\n",
       "    <tr>\n",
       "      <th>...</th>\n",
       "      <td>...</td>\n",
       "      <td>...</td>\n",
       "      <td>...</td>\n",
       "      <td>...</td>\n",
       "      <td>...</td>\n",
       "    </tr>\n",
       "    <tr>\n",
       "      <th>89995</th>\n",
       "      <td>сделано достаточно хорошо. на ткани сделан рис...</td>\n",
       "      <td>positive</td>\n",
       "      <td>[сделать, достаточно, хорошо, ткань, сделать, ...</td>\n",
       "      <td>positive_13</td>\n",
       "      <td>0.0</td>\n",
       "    </tr>\n",
       "    <tr>\n",
       "      <th>89996</th>\n",
       "      <td>Накидка шикарная. Спасибо большое провдо линяе...</td>\n",
       "      <td>positive</td>\n",
       "      <td>[накидка, шикарный, спасибо, большой, провдо, ...</td>\n",
       "      <td>positive_16</td>\n",
       "      <td>0.0</td>\n",
       "    </tr>\n",
       "    <tr>\n",
       "      <th>89997</th>\n",
       "      <td>спасибо большое ) продовца рекомендую.. заказа...</td>\n",
       "      <td>positive</td>\n",
       "      <td>[спасибо, большой, продовца, рекомендовать, за...</td>\n",
       "      <td>positive_6</td>\n",
       "      <td>3.0</td>\n",
       "    </tr>\n",
       "    <tr>\n",
       "      <th>89998</th>\n",
       "      <td>Очень довольна заказом! Меньше месяца в РБ.  К...</td>\n",
       "      <td>positive</td>\n",
       "      <td>[очень, довольный, заказ, маленький, месяц, рб...</td>\n",
       "      <td>positive_15</td>\n",
       "      <td>2.0</td>\n",
       "    </tr>\n",
       "    <tr>\n",
       "      <th>89999</th>\n",
       "      <td>хорошая куртка. постороннего запаха нет. швы р...</td>\n",
       "      <td>positive</td>\n",
       "      <td>[хороший, куртка, посторонний, запах, шов, ров...</td>\n",
       "      <td>positive_16</td>\n",
       "      <td>2.0</td>\n",
       "    </tr>\n",
       "  </tbody>\n",
       "</table>\n",
       "<p>89788 rows × 5 columns</p>\n",
       "</div>"
      ],
      "text/plain": [
       "                                                  review sentiment  \\\n",
       "0      качество плохое пошив ужасный (горловина напер...  negative   \n",
       "1      Товар отдали другому человеку, я не получила п...  negative   \n",
       "2      Ужасная синтетика! Тонкая, ничего общего с пре...  negative   \n",
       "3      товар не пришел, продавец продлил защиту без м...  negative   \n",
       "4          Кофточка голая синтетика, носить не возможно.  negative   \n",
       "...                                                  ...       ...   \n",
       "89995  сделано достаточно хорошо. на ткани сделан рис...  positive   \n",
       "89996  Накидка шикарная. Спасибо большое провдо линяе...  positive   \n",
       "89997  спасибо большое ) продовца рекомендую.. заказа...  positive   \n",
       "89998  Очень довольна заказом! Меньше месяца в РБ.  К...  positive   \n",
       "89999  хорошая куртка. постороннего запаха нет. швы р...  positive   \n",
       "\n",
       "                                                  tokens  strat_kfold  fold  \n",
       "0      [качество, плохой, пошив, ужасный, горловина, ...  negative_21   0.0  \n",
       "1      [товар, отдать, человек, не, получить, посылка...   negative_9   2.0  \n",
       "2      [ужасный, синтетик, тонкий, общий, представить...  negative_20   1.0  \n",
       "3      [товар, не, прийти, продавец, продлить, защита...  negative_10   2.0  \n",
       "4      [кофточка, голый, синтетик, носить, не, возможно]   negative_6   2.0  \n",
       "...                                                  ...          ...   ...  \n",
       "89995  [сделать, достаточно, хорошо, ткань, сделать, ...  positive_13   0.0  \n",
       "89996  [накидка, шикарный, спасибо, большой, провдо, ...  positive_16   0.0  \n",
       "89997  [спасибо, большой, продовца, рекомендовать, за...   positive_6   3.0  \n",
       "89998  [очень, довольный, заказ, маленький, месяц, рб...  positive_15   2.0  \n",
       "89999  [хороший, куртка, посторонний, запах, шов, ров...  positive_16   2.0  \n",
       "\n",
       "[89788 rows x 5 columns]"
      ]
     },
     "execution_count": 21,
     "metadata": {},
     "output_type": "execute_result"
    }
   ],
   "source": [
    "df"
   ]
  },
  {
   "cell_type": "markdown",
   "metadata": {},
   "source": [
    "# Датасет"
   ]
  },
  {
   "cell_type": "markdown",
   "metadata": {},
   "source": [
    "Класс для конвертации токенов в тензоры"
   ]
  },
  {
   "cell_type": "code",
   "execution_count": 22,
   "metadata": {},
   "outputs": [],
   "source": [
    "class DatasetRetriever(Dataset):\n",
    "    def __init__(self, df_dataset, max_amount_of_words):\n",
    "        super().__init__()\n",
    "        self.df_dataset = df_dataset\n",
    "        self.index_values = df_dataset.index.values\n",
    "        self.max_amount_of_words = max_amount_of_words\n",
    "        \n",
    "    def __getitem__(self, index: int):\n",
    "        row = self.df_dataset.loc[self.index_values[index]]\n",
    "        \n",
    "        tensor = torch.zeros([self.max_amount_of_words, 300], dtype=torch.float32)\n",
    "        counter = 0\n",
    "        \n",
    "        for token in row['tokens']:\n",
    "            if counter >= self.max_amount_of_words:\n",
    "                break\n",
    "            \n",
    "            if rus_pattern.match(token):\n",
    "                tensor[counter, :] = ru_embeddings[token]\n",
    "            elif eng_pattern.match(token):\n",
    "                tensor[counter, :] = en_embeddings[token]\n",
    "            \n",
    "            if torch.sum(tensor[counter, :]) != 0:\n",
    "                counter += 1\n",
    "                \n",
    "        label = 0\n",
    "        if row['sentiment'] == 'neautral':\n",
    "            label = 1\n",
    "        elif row['sentiment'] == 'positive':\n",
    "            label = 2\n",
    "            \n",
    "        # если ни один токен не имеет эмбеддинга, то устанавливаем лейбл = -1, \n",
    "        # чтобы потом отфильтровать этот тензор как невалидный\n",
    "        if torch.sum(tensor) == 0:\n",
    "            label = -1\n",
    "            \n",
    "        return tensor, label\n",
    "    \n",
    "    def __len__(self):\n",
    "        return self.index_values.shape[0]"
   ]
  },
  {
   "cell_type": "markdown",
   "metadata": {},
   "source": [
    "Пусть фолд с номером 0 будет валидационной выборкой"
   ]
  },
  {
   "cell_type": "code",
   "execution_count": 23,
   "metadata": {},
   "outputs": [],
   "source": [
    "fold_number = 0"
   ]
  },
  {
   "cell_type": "code",
   "execution_count": 24,
   "metadata": {},
   "outputs": [],
   "source": [
    "train_dataset = DatasetRetriever(df[df['fold'] != fold_number], 120)\n",
    "val_dataset = DatasetRetriever(df[df['fold'] == fold_number], 120)"
   ]
  },
  {
   "cell_type": "markdown",
   "metadata": {},
   "source": [
    "Проверяем, что датасет построился корректно"
   ]
  },
  {
   "cell_type": "code",
   "execution_count": 25,
   "metadata": {},
   "outputs": [
    {
     "data": {
      "text/plain": [
       "torch.Size([120, 300])"
      ]
     },
     "execution_count": 25,
     "metadata": {},
     "output_type": "execute_result"
    }
   ],
   "source": [
    "data = train_dataset[0]\n",
    "data[0].shape"
   ]
  },
  {
   "cell_type": "markdown",
   "metadata": {},
   "source": [
    "инициализируем переменные для нейронки и загрузчика данных"
   ]
  },
  {
   "cell_type": "code",
   "execution_count": 26,
   "metadata": {},
   "outputs": [],
   "source": [
    "device = torch.device(\"cuda\" if torch.cuda.is_available() else \"cpu\")\n",
    "batch_size = 128\n",
    "num_workers = 0"
   ]
  },
  {
   "cell_type": "markdown",
   "metadata": {},
   "source": [
    "Создаем загрузчики данных для трейна и валидации"
   ]
  },
  {
   "cell_type": "code",
   "execution_count": 27,
   "metadata": {},
   "outputs": [],
   "source": [
    "def collate_fn(batch):\n",
    "    matrix_list = []\n",
    "    label_list = []\n",
    "    \n",
    "    for matrix, label in batch:\n",
    "        if label != -1:\n",
    "            matrix_list.append(matrix)\n",
    "            label_list.append(label)\n",
    "            \n",
    "    return matrix_list, label_list\n",
    "\n",
    "\n",
    "train_loader = torch.utils.data.DataLoader(\n",
    "    train_dataset,\n",
    "    batch_size=batch_size,\n",
    "    sampler=RandomSampler(train_dataset),\n",
    "    pin_memory=False,\n",
    "    drop_last=True,\n",
    "    num_workers=num_workers,\n",
    "    collate_fn=collate_fn,\n",
    ")\n",
    "\n",
    "val_loader = torch.utils.data.DataLoader(\n",
    "    val_dataset, \n",
    "    batch_size=batch_size,\n",
    "    num_workers=num_workers,\n",
    "    shuffle=False,\n",
    "    sampler=SequentialSampler(val_dataset),\n",
    "    pin_memory=False,\n",
    "    collate_fn=collate_fn,\n",
    ")"
   ]
  },
  {
   "cell_type": "markdown",
   "metadata": {},
   "source": [
    "# Модель"
   ]
  },
  {
   "cell_type": "markdown",
   "metadata": {},
   "source": [
    "Я нашла статью (https://ieeexplore.ieee.org/document/8807792) от авторов датасета, и решила сделать похожую архитектуру"
   ]
  },
  {
   "cell_type": "code",
   "execution_count": 28,
   "metadata": {},
   "outputs": [],
   "source": [
    "class Model(torch.nn.Module):\n",
    "    def __init__(self, dim_in, dim_out):\n",
    "        super(Model, self).__init__()\n",
    "                \n",
    "        dim1, dim2  = 8, 16\n",
    "        \n",
    "        self.cnn_layer1 = torch.nn.Sequential(\n",
    "            torch.nn.Conv1d(dim_in, dim1, kernel_size=1, stride=1, padding=0, bias=False),\n",
    "            torch.nn.BatchNorm1d(num_features=dim1),\n",
    "            torch.nn.ReLU(inplace=True),\n",
    "            torch.nn.Conv1d(dim1, dim2, kernel_size=1, stride=1, padding=0, bias=False),\n",
    "            torch.nn.BatchNorm1d(num_features=dim2),\n",
    "            torch.nn.ReLU(inplace=True),\n",
    "        )\n",
    "        self.cnn_layer2 = torch.nn.Sequential(\n",
    "            torch.nn.Conv1d(dim_in, dim1, kernel_size=3, stride=1, padding=1, bias=False),\n",
    "            torch.nn.BatchNorm1d(num_features=dim1),\n",
    "            torch.nn.ReLU(inplace=True),\n",
    "            torch.nn.Conv1d(dim1, dim2, kernel_size=3, stride=1, padding=1, bias=False),\n",
    "            torch.nn.BatchNorm1d(num_features=dim2),\n",
    "            torch.nn.ReLU(inplace=True),\n",
    "        )\n",
    "        self.cnn_layer3 = torch.nn.Sequential(\n",
    "            torch.nn.Conv1d(dim_in, dim1, kernel_size=5, stride=1, padding=2, bias=False),\n",
    "            torch.nn.BatchNorm1d(num_features=dim1),\n",
    "            torch.nn.ReLU(inplace=True),\n",
    "            torch.nn.Conv1d(dim1, dim2, kernel_size=5, stride=1, padding=2, bias=False),\n",
    "            torch.nn.BatchNorm1d(num_features=dim2),\n",
    "            torch.nn.ReLU(inplace=True),\n",
    "        )\n",
    "        self.cnn_layer4 = torch.nn.Sequential(\n",
    "            torch.nn.Conv1d(dim_in, dim1, kernel_size=7, stride=1, padding=3, bias=False),\n",
    "            torch.nn.BatchNorm1d(num_features=dim1),\n",
    "            torch.nn.ReLU(inplace=True),\n",
    "            torch.nn.Conv1d(dim1, dim2, kernel_size=7, stride=1, padding=3, bias=False),\n",
    "            torch.nn.BatchNorm1d(num_features=dim2),\n",
    "            torch.nn.ReLU(inplace=True),\n",
    "        )\n",
    "        self.cnn_layer5 = torch.nn.Sequential(\n",
    "            torch.nn.Conv1d(dim_in, dim1, kernel_size=9, stride=1, padding=4, bias=False),\n",
    "            torch.nn.BatchNorm1d(num_features=dim1),\n",
    "            torch.nn.ReLU(inplace=True),\n",
    "            torch.nn.Conv1d(dim1, dim2, kernel_size=9, stride=1, padding=4, bias=False),\n",
    "            torch.nn.BatchNorm1d(num_features=dim2),\n",
    "            torch.nn.ReLU(inplace=True),\n",
    "        )\n",
    "        \n",
    "        self.max_pool1 = torch.nn.MaxPool1d(kernel_size=2)\n",
    "        self.max_pool2 = torch.nn.MaxPool1d(kernel_size=2)\n",
    "        self.max_pool3 = torch.nn.MaxPool1d(kernel_size=2)\n",
    "        self.max_pool4 = torch.nn.MaxPool1d(kernel_size=2)\n",
    "        self.max_pool5 = torch.nn.MaxPool1d(kernel_size=2)\n",
    "        \n",
    "        self.linear1 = torch.nn.Linear(12000, dim_out)\n",
    "        \n",
    "    def forward(self, matrix):\n",
    "        x1 = self.cnn_layer1(matrix)\n",
    "        x2 = self.cnn_layer2(matrix)\n",
    "        x3 = self.cnn_layer3(matrix)\n",
    "        x4 = self.cnn_layer4(matrix)\n",
    "        x5 = self.cnn_layer5(matrix)\n",
    "        \n",
    "        x1 = self.max_pool1(x1)\n",
    "        x2 = self.max_pool2(x2)\n",
    "        x3 = self.max_pool3(x3)\n",
    "        x4 = self.max_pool4(x4)\n",
    "        x5 = self.max_pool5(x5)\n",
    "        \n",
    "        x1 = torch.flatten(x1, 1)\n",
    "        x2 = torch.flatten(x2, 1)\n",
    "        x3 = torch.flatten(x3, 1)\n",
    "        x4 = torch.flatten(x4, 1)\n",
    "        x5 = torch.flatten(x5, 1)\n",
    "        \n",
    "        x6 = torch.cat((x1, x2, x3, x4, x5), dim=1)\n",
    "        x7 = self.linear1(x6)\n",
    "        \n",
    "        return x7"
   ]
  },
  {
   "cell_type": "markdown",
   "metadata": {},
   "source": [
    "# Обучение"
   ]
  },
  {
   "cell_type": "markdown",
   "metadata": {},
   "source": [
    "Загружаем модель на девайс"
   ]
  },
  {
   "cell_type": "code",
   "execution_count": 29,
   "metadata": {},
   "outputs": [],
   "source": [
    "# 120 - максимальное количество слов, которые подаются на вход нейронке; 3 - количество классов\n",
    "model = Model(120, 3)\n",
    "\n",
    "model = model.to(device)"
   ]
  },
  {
   "cell_type": "code",
   "execution_count": 30,
   "metadata": {},
   "outputs": [],
   "source": [
    "criterion = torch.nn.CrossEntropyLoss()\n",
    "optimizer = torch.optim.Adam(model.parameters(), lr=0.0001)"
   ]
  },
  {
   "cell_type": "code",
   "execution_count": 31,
   "metadata": {},
   "outputs": [],
   "source": [
    "def train_one_epoch(nn_model, dataset_loader, loss_criterion, grad_optimizer):\n",
    "    running_loss = 0.0\n",
    "    nn_model.train()\n",
    "    \n",
    "    for batch_idx, (matrices, labels) in enumerate(dataset_loader):\n",
    "        optimizer.zero_grad()\n",
    "        \n",
    "        batch_tensor = torch.stack(matrices).to(device)\n",
    "        labels_tensor = torch.tensor(labels).to(device)\n",
    "        \n",
    "        outputs = nn_model(batch_tensor)\n",
    "        loss = loss_criterion(outputs, labels_tensor)\n",
    "        loss.backward()\n",
    "        \n",
    "        grad_optimizer.step()\n",
    "        \n",
    "        running_loss += loss.item()\n",
    "        \n",
    "        if batch_idx % 100 == 0 and batch_idx != 0:\n",
    "            print('batch #{}\\t accumulated_loss = {}\\t current_loss = {}'.format(\n",
    "                batch_idx, running_loss/batch_idx, loss.item()))\n",
    "            \n",
    "    return running_loss / len(dataset_loader)"
   ]
  },
  {
   "cell_type": "code",
   "execution_count": 32,
   "metadata": {},
   "outputs": [],
   "source": [
    "def validate(nn_model, dataset_loader, loss_criterion):\n",
    "    running_loss = 0.0\n",
    "    accuracy = 0\n",
    "    pred_array = []\n",
    "    label_array = []\n",
    "    \n",
    "    with torch.no_grad():\n",
    "        model.eval()\n",
    "        \n",
    "        for i, (matrices, labels) in enumerate(dataset_loader):\n",
    "            batch_tensor = torch.stack(matrices).to(device)\n",
    "            labels_tensor = torch.tensor(labels).to(device)\n",
    "\n",
    "            outputs = nn_model(batch_tensor)\n",
    "            loss = loss_criterion(outputs, labels_tensor)\n",
    "            running_loss += loss.item()\n",
    "\n",
    "            pred_array += torch.argmax(outputs, dim=1).tolist()\n",
    "            label_array += labels\n",
    "\n",
    "            accurate_predicted = torch.sum(torch.argmax(outputs, dim=1) == labels_tensor).item()\n",
    "            accuracy += accurate_predicted\n",
    "            \n",
    "    print('----------------------------------------------validation')\n",
    "    print('accumulated_loss:  ', running_loss/len(val_loader))\n",
    "    print('confusion_matrix:\\n', confusion_matrix(label_array, pred_array))\n",
    "    print('classification_report:\\n', classification_report(label_array, pred_array))\n",
    "    print('\\n\\n\\n')\n",
    "    \n",
    "    classification_report_dict = classification_report(label_array, pred_array, output_dict=True)    \n",
    "    macro_f1 = classification_report_dict['macro avg']['f1-score']\n",
    "    \n",
    "    return running_loss / len(dataset_loader), macro_f1"
   ]
  },
  {
   "cell_type": "code",
   "execution_count": 33,
   "metadata": {},
   "outputs": [
    {
     "name": "stdout",
     "output_type": "stream",
     "text": [
      "----------------------------------------------epoch #0\n",
      "batch #100\t accumulated_loss = 1.024309542775154\t current_loss = 0.9400205016136169\n",
      "batch #200\t accumulated_loss = 0.9667309445142745\t current_loss = 0.8359429836273193\n",
      "batch #300\t accumulated_loss = 0.9258441617091496\t current_loss = 0.8597476482391357\n",
      "batch #400\t accumulated_loss = 0.8934870705008506\t current_loss = 0.7693899273872375\n",
      "batch #500\t accumulated_loss = 0.8700821202993393\t current_loss = 0.7895405888557434\n",
      "----------------------------------------------validation\n",
      "accumulated_loss:   0.7470575613035283\n",
      "confusion_matrix:\n",
      " [[4061 1658  312]\n",
      " [1599 3514  878]\n",
      " [ 416 1090 4514]]\n",
      "classification_report:\n",
      "               precision    recall  f1-score   support\n",
      "\n",
      "           0       0.67      0.67      0.67      6031\n",
      "           1       0.56      0.59      0.57      5991\n",
      "           2       0.79      0.75      0.77      6020\n",
      "\n",
      "   micro avg       0.67      0.67      0.67     18042\n",
      "   macro avg       0.67      0.67      0.67     18042\n",
      "weighted avg       0.67      0.67      0.67     18042\n",
      "\n",
      "\n",
      "\n",
      "\n",
      "\n",
      "----------------------------------------------epoch #1\n",
      "batch #100\t accumulated_loss = 0.7391747909784318\t current_loss = 0.708621084690094\n",
      "batch #200\t accumulated_loss = 0.7309211957454681\t current_loss = 0.7318717241287231\n",
      "batch #300\t accumulated_loss = 0.7243413329124451\t current_loss = 0.684998631477356\n",
      "batch #400\t accumulated_loss = 0.7231567980349064\t current_loss = 0.7173519730567932\n",
      "batch #500\t accumulated_loss = 0.7185742254257202\t current_loss = 0.7718797922134399\n",
      "----------------------------------------------validation\n",
      "accumulated_loss:   0.7047229426007875\n",
      "confusion_matrix:\n",
      " [[3857 1940  234]\n",
      " [1262 3959  770]\n",
      " [ 254 1132 4634]]\n",
      "classification_report:\n",
      "               precision    recall  f1-score   support\n",
      "\n",
      "           0       0.72      0.64      0.68      6031\n",
      "           1       0.56      0.66      0.61      5991\n",
      "           2       0.82      0.77      0.79      6020\n",
      "\n",
      "   micro avg       0.69      0.69      0.69     18042\n",
      "   macro avg       0.70      0.69      0.69     18042\n",
      "weighted avg       0.70      0.69      0.69     18042\n",
      "\n",
      "\n",
      "\n",
      "\n",
      "\n",
      "----------------------------------------------epoch #2\n",
      "batch #100\t accumulated_loss = 0.6925538998842239\t current_loss = 0.738574206829071\n",
      "batch #200\t accumulated_loss = 0.6842500141263008\t current_loss = 0.6414860486984253\n",
      "batch #300\t accumulated_loss = 0.6810328181584676\t current_loss = 0.6947188377380371\n",
      "batch #400\t accumulated_loss = 0.6802612684667111\t current_loss = 0.6387498378753662\n",
      "batch #500\t accumulated_loss = 0.6774003540277481\t current_loss = 0.6934580206871033\n",
      "----------------------------------------------validation\n",
      "accumulated_loss:   0.688152510515401\n",
      "confusion_matrix:\n",
      " [[3851 1843  337]\n",
      " [1201 3716 1074]\n",
      " [ 216  829 4975]]\n",
      "classification_report:\n",
      "               precision    recall  f1-score   support\n",
      "\n",
      "           0       0.73      0.64      0.68      6031\n",
      "           1       0.58      0.62      0.60      5991\n",
      "           2       0.78      0.83      0.80      6020\n",
      "\n",
      "   micro avg       0.70      0.70      0.70     18042\n",
      "   macro avg       0.70      0.70      0.69     18042\n",
      "weighted avg       0.70      0.70      0.69     18042\n",
      "\n",
      "\n",
      "\n",
      "\n",
      "\n",
      "----------------------------------------------epoch #3\n",
      "batch #100\t accumulated_loss = 0.6563131707906723\t current_loss = 0.6813098192214966\n",
      "batch #200\t accumulated_loss = 0.6534762340784073\t current_loss = 0.6590378880500793\n",
      "batch #300\t accumulated_loss = 0.6518556332588196\t current_loss = 0.6719297766685486\n",
      "batch #400\t accumulated_loss = 0.6532213106751442\t current_loss = 0.7242968082427979\n",
      "batch #500\t accumulated_loss = 0.6538408451080322\t current_loss = 0.622866153717041\n",
      "----------------------------------------------validation\n",
      "accumulated_loss:   0.6824375697424714\n",
      "confusion_matrix:\n",
      " [[4560 1208  263]\n",
      " [1972 3079  940]\n",
      " [ 366  747 4907]]\n",
      "classification_report:\n",
      "               precision    recall  f1-score   support\n",
      "\n",
      "           0       0.66      0.76      0.71      6031\n",
      "           1       0.61      0.51      0.56      5991\n",
      "           2       0.80      0.82      0.81      6020\n",
      "\n",
      "   micro avg       0.70      0.70      0.70     18042\n",
      "   macro avg       0.69      0.70      0.69     18042\n",
      "weighted avg       0.69      0.70      0.69     18042\n",
      "\n",
      "\n",
      "\n",
      "\n",
      "\n",
      "----------------------------------------------epoch #4\n",
      "batch #100\t accumulated_loss = 0.6390811377763748\t current_loss = 0.6366385221481323\n",
      "batch #200\t accumulated_loss = 0.638970499932766\t current_loss = 0.6398045420646667\n",
      "batch #300\t accumulated_loss = 0.6359802852074306\t current_loss = 0.5661938190460205\n",
      "batch #400\t accumulated_loss = 0.6361320089548826\t current_loss = 0.6322434544563293\n",
      "batch #500\t accumulated_loss = 0.6358020973205566\t current_loss = 0.5855306386947632\n",
      "----------------------------------------------validation\n",
      "accumulated_loss:   0.6823499578405434\n",
      "confusion_matrix:\n",
      " [[4324 1334  373]\n",
      " [1633 3104 1254]\n",
      " [ 254  634 5132]]\n",
      "classification_report:\n",
      "               precision    recall  f1-score   support\n",
      "\n",
      "           0       0.70      0.72      0.71      6031\n",
      "           1       0.61      0.52      0.56      5991\n",
      "           2       0.76      0.85      0.80      6020\n",
      "\n",
      "   micro avg       0.70      0.70      0.70     18042\n",
      "   macro avg       0.69      0.70      0.69     18042\n",
      "weighted avg       0.69      0.70      0.69     18042\n",
      "\n",
      "\n",
      "\n",
      "\n",
      "\n",
      "----------------------------------------------epoch #5\n",
      "batch #100\t accumulated_loss = 0.6284231859445571\t current_loss = 0.5619425773620605\n",
      "batch #200\t accumulated_loss = 0.6280124256014824\t current_loss = 0.5698757171630859\n",
      "batch #300\t accumulated_loss = 0.6227688815196355\t current_loss = 0.5811008810997009\n",
      "batch #400\t accumulated_loss = 0.6228246913850307\t current_loss = 0.6194124221801758\n",
      "batch #500\t accumulated_loss = 0.6207735099792481\t current_loss = 0.6957517862319946\n",
      "----------------------------------------------validation\n",
      "accumulated_loss:   0.688029923909147\n",
      "confusion_matrix:\n",
      " [[4790  975  266]\n",
      " [2248 2690 1053]\n",
      " [ 417  587 5016]]\n",
      "classification_report:\n",
      "               precision    recall  f1-score   support\n",
      "\n",
      "           0       0.64      0.79      0.71      6031\n",
      "           1       0.63      0.45      0.53      5991\n",
      "           2       0.79      0.83      0.81      6020\n",
      "\n",
      "   micro avg       0.69      0.69      0.69     18042\n",
      "   macro avg       0.69      0.69      0.68     18042\n",
      "weighted avg       0.69      0.69      0.68     18042\n",
      "\n",
      "\n",
      "\n",
      "\n",
      "\n",
      "----------------------------------------------epoch #6\n",
      "batch #100\t accumulated_loss = 0.6128122419118881\t current_loss = 0.6528224349021912\n",
      "batch #200\t accumulated_loss = 0.6079251059889793\t current_loss = 0.5994218587875366\n",
      "batch #300\t accumulated_loss = 0.6085823427637418\t current_loss = 0.7015596032142639\n",
      "batch #400\t accumulated_loss = 0.6059153188765048\t current_loss = 0.5224641561508179\n",
      "batch #500\t accumulated_loss = 0.6069678410291671\t current_loss = 0.5691783428192139\n",
      "----------------------------------------------validation\n",
      "accumulated_loss:   0.6716561011025604\n",
      "confusion_matrix:\n",
      " [[4091 1757  183]\n",
      " [1380 3881  730]\n",
      " [ 250  998 4772]]\n",
      "classification_report:\n",
      "               precision    recall  f1-score   support\n",
      "\n",
      "           0       0.72      0.68      0.70      6031\n",
      "           1       0.58      0.65      0.61      5991\n",
      "           2       0.84      0.79      0.82      6020\n",
      "\n",
      "   micro avg       0.71      0.71      0.71     18042\n",
      "   macro avg       0.71      0.71      0.71     18042\n",
      "weighted avg       0.71      0.71      0.71     18042\n",
      "\n",
      "\n",
      "\n",
      "\n",
      "\n",
      "----------------------------------------------epoch #7\n",
      "batch #100\t accumulated_loss = 0.5975080531835556\t current_loss = 0.5939178466796875\n",
      "batch #200\t accumulated_loss = 0.5963713751733303\t current_loss = 0.5491921305656433\n",
      "batch #300\t accumulated_loss = 0.5956972377498945\t current_loss = 0.5225892066955566\n",
      "batch #400\t accumulated_loss = 0.5950823500007391\t current_loss = 0.5806052684783936\n",
      "batch #500\t accumulated_loss = 0.5961745377182961\t current_loss = 0.6427921652793884\n",
      "----------------------------------------------validation\n",
      "accumulated_loss:   0.6758858238307524\n",
      "confusion_matrix:\n",
      " [[3717 2057  257]\n",
      " [1082 4012  897]\n",
      " [ 168  899 4953]]\n",
      "classification_report:\n",
      "               precision    recall  f1-score   support\n",
      "\n",
      "           0       0.75      0.62      0.68      6031\n",
      "           1       0.58      0.67      0.62      5991\n",
      "           2       0.81      0.82      0.82      6020\n",
      "\n",
      "   micro avg       0.70      0.70      0.70     18042\n",
      "   macro avg       0.71      0.70      0.70     18042\n",
      "weighted avg       0.71      0.70      0.70     18042\n",
      "\n",
      "\n",
      "\n",
      "\n",
      "\n",
      "----------------------------------------------epoch #8\n"
     ]
    },
    {
     "name": "stdout",
     "output_type": "stream",
     "text": [
      "batch #100\t accumulated_loss = 0.5894210895895958\t current_loss = 0.5734207630157471\n",
      "batch #200\t accumulated_loss = 0.5863297973573208\t current_loss = 0.6248311400413513\n",
      "batch #300\t accumulated_loss = 0.5827113109827041\t current_loss = 0.546962320804596\n",
      "batch #400\t accumulated_loss = 0.5849819654971361\t current_loss = 0.6233723759651184\n",
      "batch #500\t accumulated_loss = 0.5837674698233605\t current_loss = 0.5885387063026428\n",
      "----------------------------------------------validation\n",
      "accumulated_loss:   0.6801986870631366\n",
      "confusion_matrix:\n",
      " [[4373 1363  295]\n",
      " [1709 3258 1024]\n",
      " [ 270  719 5031]]\n",
      "classification_report:\n",
      "               precision    recall  f1-score   support\n",
      "\n",
      "           0       0.69      0.73      0.71      6031\n",
      "           1       0.61      0.54      0.58      5991\n",
      "           2       0.79      0.84      0.81      6020\n",
      "\n",
      "   micro avg       0.70      0.70      0.70     18042\n",
      "   macro avg       0.70      0.70      0.70     18042\n",
      "weighted avg       0.70      0.70      0.70     18042\n",
      "\n",
      "\n",
      "\n",
      "\n",
      "\n",
      "----------------------------------------------epoch #9\n",
      "batch #100\t accumulated_loss = 0.5704020980000496\t current_loss = 0.44082602858543396\n",
      "batch #200\t accumulated_loss = 0.5696154983341694\t current_loss = 0.5561736822128296\n",
      "batch #300\t accumulated_loss = 0.5712120760480562\t current_loss = 0.5153032541275024\n",
      "batch #400\t accumulated_loss = 0.5727677681297064\t current_loss = 0.5700201988220215\n",
      "batch #500\t accumulated_loss = 0.5740241438746453\t current_loss = 0.5481931567192078\n",
      "----------------------------------------------validation\n",
      "accumulated_loss:   0.6810071493538332\n",
      "confusion_matrix:\n",
      " [[4221 1653  157]\n",
      " [1594 3728  669]\n",
      " [ 273 1036 4711]]\n",
      "classification_report:\n",
      "               precision    recall  f1-score   support\n",
      "\n",
      "           0       0.69      0.70      0.70      6031\n",
      "           1       0.58      0.62      0.60      5991\n",
      "           2       0.85      0.78      0.82      6020\n",
      "\n",
      "   micro avg       0.70      0.70      0.70     18042\n",
      "   macro avg       0.71      0.70      0.70     18042\n",
      "weighted avg       0.71      0.70      0.70     18042\n",
      "\n",
      "\n",
      "\n",
      "\n",
      "\n"
     ]
    }
   ],
   "source": [
    "checkpoints_path = 'checkpoints'\n",
    "os.makedirs(checkpoints_path, exist_ok=True)\n",
    "\n",
    "train_losses = []\n",
    "val_losses = []\n",
    "\n",
    "for epoch in range(10):\n",
    "    print('----------------------------------------------epoch #{}'.format(epoch))\n",
    "    \n",
    "    train_loss = train_one_epoch(model, train_loader, criterion, optimizer)\n",
    "    val_loss, macro_f1_score = validate(model, val_loader, criterion)\n",
    "    \n",
    "    torch.save(model.state_dict(), os.path.join(\n",
    "        checkpoints_path, 'checkpoint_epoch_{}_f1_{}.pth'.format(epoch, int(macro_f1_score*100))))\n",
    "    \n",
    "    train_losses.append(train_loss)\n",
    "    val_losses.append(val_loss)"
   ]
  },
  {
   "cell_type": "markdown",
   "metadata": {},
   "source": [
    "Построим графики лоссов"
   ]
  },
  {
   "cell_type": "code",
   "execution_count": 34,
   "metadata": {},
   "outputs": [
    {
     "data": {
      "image/png": "[encoded data removed]",
      "text/plain": [
       "<Figure size 432x288 with 1 Axes>"
      ]
     },
     "metadata": {
      "needs_background": "light"
     },
     "output_type": "display_data"
    }
   ],
   "source": [
    "plt.plot(list(range(len(train_losses))), train_losses)\n",
    "plt.plot(list(range(len(val_losses))), val_losses)\n",
    "plt.legend([\"train loss\", \"validation loss\"])\n",
    "plt.show()"
   ]
  },
  {
   "cell_type": "markdown",
   "metadata": {},
   "source": [
    "# Выбор модели"
   ]
  },
  {
   "cell_type": "markdown",
   "metadata": {},
   "source": [
    "Выбираем по f1-мере. берем веса, полученные на 6 эпохе "
   ]
  },
  {
   "cell_type": "code",
   "execution_count": 45,
   "metadata": {},
   "outputs": [],
   "source": [
    "model = Model(120, 3)\n",
    "model = model.to(device)"
   ]
  },
  {
   "cell_type": "code",
   "execution_count": 37,
   "metadata": {},
   "outputs": [],
   "source": [
    "model.load_state_dict(torch.load(os.path.join('checkpoints', 'checkpoint_epoch_6_f1_70.pth')))"
   ]
  },
  {
   "cell_type": "code",
   "execution_count": 42,
   "metadata": {},
   "outputs": [
    {
     "name": "stdout",
     "output_type": "stream",
     "text": [
      "----------------------------------------------validation\n",
      "accumulated loss:   0.6716561011025604\n",
      "accuracy:   0.7063518456933822\n",
      "confusion_matrix:\n",
      " [[4091 1757  183]\n",
      " [1380 3881  730]\n",
      " [ 250  998 4772]]\n",
      "classification_report:\n",
      "               precision    recall  f1-score   support\n",
      "\n",
      "           0       0.72      0.68      0.70      6031\n",
      "           1       0.58      0.65      0.61      5991\n",
      "           2       0.84      0.79      0.82      6020\n",
      "\n",
      "   micro avg       0.71      0.71      0.71     18042\n",
      "   macro avg       0.71      0.71      0.71     18042\n",
      "weighted avg       0.71      0.71      0.71     18042\n",
      "\n",
      "\n",
      "\n",
      "\n",
      "\n"
     ]
    }
   ],
   "source": [
    "running_loss = 0.0\n",
    "accuracy = 0\n",
    "pred_array = []\n",
    "label_array = []\n",
    "\n",
    "with torch.no_grad():\n",
    "    model.eval()\n",
    "\n",
    "    for i, (matrices, labels) in enumerate(val_loader):\n",
    "        batch_tensor = torch.stack(matrices).to(device)\n",
    "        labels_tensor = torch.tensor(labels).to(device)\n",
    "\n",
    "        outputs = model(batch_tensor)\n",
    "        loss = criterion(outputs, labels_tensor)\n",
    "        running_loss += loss.item()\n",
    "\n",
    "        pred_array += torch.argmax(outputs, dim=1).tolist()\n",
    "        label_array += labels\n",
    "\n",
    "        accurate_predicted = torch.sum(torch.argmax(outputs, dim=1) == labels_tensor).item()\n",
    "        accuracy += accurate_predicted\n",
    "\n",
    "print('----------------------------------------------validation')\n",
    "print('accumulated loss:  ', running_loss/len(val_loader))\n",
    "print('accuracy:  ', accuracy / len(label_array))\n",
    "print('confusion_matrix:\\n', confusion_matrix(label_array, pred_array))\n",
    "print('classification_report:\\n', classification_report(label_array, pred_array))\n",
    "print('\\n\\n\\n')"
   ]
  },
  {
   "cell_type": "code",
   "execution_count": 43,
   "metadata": {},
   "outputs": [],
   "source": [
    "classification_report_dict = classification_report(label_array, pred_array, output_dict=True)"
   ]
  },
  {
   "cell_type": "code",
   "execution_count": 44,
   "metadata": {},
   "outputs": [
    {
     "name": "stdout",
     "output_type": "stream",
     "text": [
      "macro_f1_measure:  0.7087714879725104\n"
     ]
    }
   ],
   "source": [
    "print('macro_f1_measure: ', classification_report_dict['macro avg']['f1-score'])"
   ]
  },
  {
   "cell_type": "code",
   "execution_count": null,
   "metadata": {},
   "outputs": [],
   "source": []
  }
 ],
 "metadata": {
  "kernelspec": {
   "display_name": "Python 3",
   "language": "python",
   "name": "python3"
  },
  "language_info": {
   "codemirror_mode": {
    "name": "ipython",
    "version": 3
   },
   "file_extension": ".py",
   "mimetype": "text/x-python",
   "name": "python",
   "nbconvert_exporter": "python",
   "pygments_lexer": "ipython3",
   "version": "3.6.9"
  }
 },
 "nbformat": 4,
 "nbformat_minor": 4
}
